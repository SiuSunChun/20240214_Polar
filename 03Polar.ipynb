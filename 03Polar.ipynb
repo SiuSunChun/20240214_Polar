{
 "cells": [
  {
   "cell_type": "code",
   "execution_count": null,
   "id": "3cbe658a-2b0b-4385-b7fc-497ef4c9098b",
   "metadata": {},
   "outputs": [],
   "source": [
    "#For the following coding exercise, \n",
    "#I decided I would be a magician\n",
    "#'Cause magic is real\n",
    "#I memorised a lot of pi ### np.pi = 3.141592653589793\n",
    "#Because summation and differentiation \n",
    "#Would never make me feel so stupid "
   ]
  },
  {
   "cell_type": "code",
   "execution_count": null,
   "id": "ff69b8b3-8dfd-4a39-a097-a5c0a9d6df03",
   "metadata": {},
   "outputs": [],
   "source": [
    "import numpy as np\n",
    "import matplotlib.pyplot as plt\n",
    "\n",
    "# Generate points on the spiral\n",
    "num_points = 80\n",
    "theta1 = np.linspace(0+0.0001, np.pi/2-0.0001, num_points)\n",
    "theta2 = np.linspace(np.pi/2+0.0001, np.pi-0.0001, num_points)\n",
    "Z1 = np.power(np.abs(np.tan(theta1)), 1.0 / np.abs(np.tan(theta1)))\n",
    "Z2 = np.power(np.abs(np.tan(theta2)), 1.0 / np.abs(np.tan(theta2)))\n",
    "\n",
    "# Convert angles to degrees and adjust for plotting\n",
    "angles1 = theta1 * 180 / np.pi\n",
    "angles2 = theta2 * 180 / np.pi\n"
   ]
  },
  {
   "cell_type": "code",
   "execution_count": null,
   "id": "eccaad6c-7139-4304-9e34-0d9dfd2ce109",
   "metadata": {},
   "outputs": [],
   "source": [
    "# Create the polar plot\n",
    "plt.figure(figsize=(8, 8))\n",
    "ax = plt.subplot(111, projection=\"polar\")\n",
    "##Here we have the frist half\n",
    "ax.plot(theta1, Z1, color='red', linewidth=0.5)\n",
    "##We need to complete the other half\n",
    "ax.plot(theta2, Z2, color='red', linewidth=0.5)\n",
    "\n",
    "# Set labels and title\n",
    "#ax.set_xlabel(\"Angle (degrees)\")\n",
    "#ax.set_ylabel(\"Radius\")\n",
    "ax.set_title(\"Our Spiral\")\n",
    "ax.set_thetamin(0)\n",
    "ax.set_thetamax(180)\n",
    "\n",
    "# Customize plot appearance (optional)\n",
    "ax.set_ylim(0, np.max(Z1) * 1.1)  # Adjust y-axis limits if needed\n",
    "plt.grid(True)\n",
    "\n",
    "plt.show()\n",
    "\n",
    "#I didn't get it\n",
    "#I didn't get it 'til now\n",
    "#Hmm-mm\n",
    "#So thank you, math, for being there\n",
    "#To bring me joy\n",
    "#And thank you, math"
   ]
  }
 ],
 "metadata": {
  "kernelspec": {
   "display_name": "Python 3 + Jaspy",
   "language": "python",
   "name": "jaspy"
  },
  "language_info": {
   "codemirror_mode": {
    "name": "ipython",
    "version": 3
   },
   "file_extension": ".py",
   "mimetype": "text/x-python",
   "name": "python",
   "nbconvert_exporter": "python",
   "pygments_lexer": "ipython3",
   "version": "3.10.8"
  }
 },
 "nbformat": 4,
 "nbformat_minor": 5
}
